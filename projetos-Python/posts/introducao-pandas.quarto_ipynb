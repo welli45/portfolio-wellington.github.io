{
  "cells": [
    {
      "cell_type": "markdown",
      "metadata": {},
      "source": [
        "---\n",
        "title: \"Análise exploratória de dados\"\n",
        "subtitle: \"Introdução ao Pandas\"\n",
        "description: \"Pandas\"\n",
        "author: \"Wellington Santos Souza\"\n",
        "date: \"2024-09-12\"\n",
        "format: \n",
        "  html:\n",
        "    code-fold: false\n",
        "categories: [Pandas, Python]\n",
        "open-graph:\n",
        "  description: \"Pandas\"\n",
        "  image: ../images/03.pandas/pandas.svg\n",
        "twitter-card:\n",
        "  description: \"Pandas\"\n",
        "  image: ../images/03.pandas/pandas.svg\n",
        "---\n",
        "\n",
        "\n",
        "*Este artigo foi reescrito em Domingo, 08 de Setembro de 2024.*\n",
        "\n",
        "![](../images/03.pandas/pandas.svg){fig-alt=\"Pandas\" fig-title=\"Pandas\"}\n",
        "\n",
        "# Introdução\n",
        "\n",
        "O pandas é uma ferramenta de análise e manipulação de dados de código aberto rápida, poderosa, flexível e fácil de usar, desenvolvida com base na linguagem de programação Python. Clique [aqui!](https://pandas.pydata.org/docs/index.html) para acessar a documentação oficial do Pandas.\n",
        "\n",
        "Para instalar o Pandas, basta executar o comando: `pip install pandas` no terminal.\n",
        "Com o pandas instalado, podemos carrega-lo com o comando `import pandas as pd`. \n",
        "Vamos importar a biblioteca seaborn para plotar gráficos com o comando `import seaborn as sns`.\n"
      ],
<<<<<<< HEAD
      "id": "12efa3c9"
=======
      "id": "60edf594"
>>>>>>> 021b1e17f88b8fa0d99a6d41a52c0b3b9d2c6f5d
    },
    {
      "cell_type": "code",
      "metadata": {},
      "source": [
        "import pandas as pd\n",
        "import seaborn as sns"
      ],
<<<<<<< HEAD
      "id": "af4f8ba5",
=======
      "id": "65e2af02",
>>>>>>> 021b1e17f88b8fa0d99a6d41a52c0b3b9d2c6f5d
      "execution_count": null,
      "outputs": []
    },
    {
      "cell_type": "markdown",
      "metadata": {},
      "source": [
        "Agora que temos o pandas carregado podemos importar um arquivo CSV para análise. Além disso, podemos usar o pandas para coletar dados em diversos formatos, como JSON, HTML, SQL, Excel, entre outros. Para mais informações sobre como carregar dados com o pandas, clique [aqui!](https://pandas.pydata.org/pandas-docs/stable/reference/io.html).\n"
      ],
<<<<<<< HEAD
      "id": "ed0359bd"
=======
      "id": "b236741e"
>>>>>>> 021b1e17f88b8fa0d99a6d41a52c0b3b9d2c6f5d
    },
    {
      "cell_type": "code",
      "metadata": {},
      "source": [
        "df = pd.read_csv('../dados/world_happiness.csv')"
      ],
<<<<<<< HEAD
      "id": "1eecb528",
=======
      "id": "c51e5fb4",
>>>>>>> 021b1e17f88b8fa0d99a6d41a52c0b3b9d2c6f5d
      "execution_count": null,
      "outputs": []
    },
    {
      "cell_type": "markdown",
      "metadata": {},
      "source": [
        "## Operações básicas com o Pandas\n",
        "\n",
        "Podemos visualizar as primeiras linhas do nosso DataFrame com o comando `df.head()`. Para visualizar as últimas linhas, basta usar o comando `df.tail()`."
      ],
<<<<<<< HEAD
      "id": "e32a3ff7"
=======
      "id": "9638ad45"
>>>>>>> 021b1e17f88b8fa0d99a6d41a52c0b3b9d2c6f5d
    },
    {
      "cell_type": "code",
      "metadata": {},
      "source": [
        "# Visualizando as primeiras linhas do DataFrame\n",
        "df.head()"
      ],
<<<<<<< HEAD
      "id": "af845b2f",
=======
      "id": "06e4eb3e",
>>>>>>> 021b1e17f88b8fa0d99a6d41a52c0b3b9d2c6f5d
      "execution_count": null,
      "outputs": []
    },
    {
      "cell_type": "code",
      "metadata": {},
      "source": [
        "# Visualizando as últimas linhas do DataFrame\n",
        "df.tail()"
      ],
<<<<<<< HEAD
      "id": "f502422f",
=======
      "id": "c832dddd",
>>>>>>> 021b1e17f88b8fa0d99a6d41a52c0b3b9d2c6f5d
      "execution_count": null,
      "outputs": []
    },
    {
      "cell_type": "markdown",
      "metadata": {},
      "source": [
        "Podemos visualizar os índices e nome das colunas do DataFrame com os comandos `df.index` e `df.columns`, respectivamente."
      ],
<<<<<<< HEAD
      "id": "f90f9901"
=======
      "id": "9b781d82"
>>>>>>> 021b1e17f88b8fa0d99a6d41a52c0b3b9d2c6f5d
    },
    {
      "cell_type": "code",
      "metadata": {},
      "source": [
        "# Visualizando os índices do DataFrame\n",
        "df.index"
      ],
<<<<<<< HEAD
      "id": "da3a01ec",
=======
      "id": "b93334a1",
>>>>>>> 021b1e17f88b8fa0d99a6d41a52c0b3b9d2c6f5d
      "execution_count": null,
      "outputs": []
    },
    {
      "cell_type": "code",
      "metadata": {},
      "source": [
        "# Visualizando os nomes das colunas do DataFrame\n",
        "df.columns"
      ],
<<<<<<< HEAD
      "id": "c8485f24",
=======
      "id": "89811c23",
>>>>>>> 021b1e17f88b8fa0d99a6d41a52c0b3b9d2c6f5d
      "execution_count": null,
      "outputs": []
    },
    {
      "cell_type": "markdown",
      "metadata": {},
      "source": [
        "Como vimos as colunas possuem espaços em seus nomes, para remover esses espaços podemos usar o comando `df.columns = df.columns.str.replace(' ', '_')`."
      ],
<<<<<<< HEAD
      "id": "8861b4eb"
=======
      "id": "36883da5"
>>>>>>> 021b1e17f88b8fa0d99a6d41a52c0b3b9d2c6f5d
    },
    {
      "cell_type": "code",
      "metadata": {},
      "source": [
        "# Removendo os espaços dos nomes das colunas\n",
        "df.columns = df.columns.str.replace(' ', '_')"
      ],
<<<<<<< HEAD
      "id": "5cae72aa",
=======
      "id": "b75880c0",
>>>>>>> 021b1e17f88b8fa0d99a6d41a52c0b3b9d2c6f5d
      "execution_count": null,
      "outputs": []
    },
    {
      "cell_type": "markdown",
      "metadata": {},
      "source": [
        "Além disso, podemos colocar os nomes das colunas em minúsculo."
      ],
<<<<<<< HEAD
      "id": "b78be423"
=======
      "id": "46c1380c"
>>>>>>> 021b1e17f88b8fa0d99a6d41a52c0b3b9d2c6f5d
    },
    {
      "cell_type": "code",
      "metadata": {},
      "source": [
        "# Colocando os nomes das colunas em minúsculo\n",
        "df.columns = df.columns.str.lower()"
      ],
<<<<<<< HEAD
      "id": "9deb0902",
=======
      "id": "cee5381c",
>>>>>>> 021b1e17f88b8fa0d99a6d41a52c0b3b9d2c6f5d
      "execution_count": null,
      "outputs": []
    },
    {
      "cell_type": "code",
      "metadata": {},
      "source": [
        "# Visualizando os nomes das colunas do DataFrame\n",
        "df.columns"
      ],
<<<<<<< HEAD
      "id": "00cf0001",
=======
      "id": "69a80ec5",
>>>>>>> 021b1e17f88b8fa0d99a6d41a52c0b3b9d2c6f5d
      "execution_count": null,
      "outputs": []
    },
    {
      "cell_type": "markdown",
      "metadata": {},
      "source": [
        "Podemos visualizar as informações do DataFrame com o comando `df.info()`. Além disso, podemos visualizar o tipo dos dados de cada coluna com o comando `df.dtypes`."
      ],
<<<<<<< HEAD
      "id": "0fbf0a73"
=======
      "id": "7c54bf79"
>>>>>>> 021b1e17f88b8fa0d99a6d41a52c0b3b9d2c6f5d
    },
    {
      "cell_type": "code",
      "metadata": {},
      "source": [
        "# Visualizando as informações do DataFrame\n",
        "df.info()"
      ],
<<<<<<< HEAD
      "id": "b94ba4d9",
=======
      "id": "bcb110a5",
>>>>>>> 021b1e17f88b8fa0d99a6d41a52c0b3b9d2c6f5d
      "execution_count": null,
      "outputs": []
    },
    {
      "cell_type": "code",
      "metadata": {},
      "source": [
        "# Visualizando o tipo dos dados de cada coluna\n",
        "df.dtypes"
      ],
<<<<<<< HEAD
      "id": "db68a8a0",
=======
      "id": "e94e8d4e",
>>>>>>> 021b1e17f88b8fa0d99a6d41a52c0b3b9d2c6f5d
      "execution_count": null,
      "outputs": []
    },
    {
      "cell_type": "markdown",
      "metadata": {},
      "source": [
        "# Selecionando linhas e colunas do DataFrame\n",
        "\n",
        "## Selecionando colunas do DataFrame\n",
        "\n",
        "Podemos selecionar a coluna `life_ladder` do DataFrame com o comando `df.life_ladder`. Além disso, podemos selecionar mais de uma coluna passando uma lista com os nomes das colunas desejadas."
      ],
<<<<<<< HEAD
      "id": "24818fe0"
=======
      "id": "ece1f685"
>>>>>>> 021b1e17f88b8fa0d99a6d41a52c0b3b9d2c6f5d
    },
    {
      "cell_type": "code",
      "metadata": {},
      "source": [
        "# Selecionando a coluna life_ladder\n",
        "x = df.life_ladder\n",
        "print(x)"
      ],
<<<<<<< HEAD
      "id": "bad5c045",
=======
      "id": "14fcc242",
>>>>>>> 021b1e17f88b8fa0d99a6d41a52c0b3b9d2c6f5d
      "execution_count": null,
      "outputs": []
    },
    {
      "cell_type": "markdown",
      "metadata": {},
      "source": [
        "Uma outra forma é passar o nome da coluna entre colchetes, como no exemplo abaixo."
      ],
<<<<<<< HEAD
      "id": "a8d16a63"
=======
      "id": "71d5cefc"
>>>>>>> 021b1e17f88b8fa0d99a6d41a52c0b3b9d2c6f5d
    },
    {
      "cell_type": "code",
      "metadata": {},
      "source": [
        "# Selecionando a coluna life_ladder\n",
        "x = df['life_ladder']\n",
        "print(x)"
      ],
<<<<<<< HEAD
      "id": "c014629f",
=======
      "id": "9c450907",
>>>>>>> 021b1e17f88b8fa0d99a6d41a52c0b3b9d2c6f5d
      "execution_count": null,
      "outputs": []
    },
    {
      "cell_type": "markdown",
      "metadata": {},
      "source": [
        "## Selecionando linhas do DataFrame\n",
        "\n",
        "Podemos selecionar as linhas de um DataFrame com o comando `df[1:5]`. "
      ],
<<<<<<< HEAD
      "id": "2164288b"
=======
      "id": "0e20c50d"
>>>>>>> 021b1e17f88b8fa0d99a6d41a52c0b3b9d2c6f5d
    },
    {
      "cell_type": "code",
      "metadata": {},
      "source": [
        "# Selecionando as linhas de 1 a 5\n",
        "x = df[1:5]\n",
        "print(x)"
      ],
<<<<<<< HEAD
      "id": "5067c601",
=======
      "id": "6938bb74",
>>>>>>> 021b1e17f88b8fa0d99a6d41a52c0b3b9d2c6f5d
      "execution_count": null,
      "outputs": []
    },
    {
      "cell_type": "markdown",
      "metadata": {},
      "source": [
        "# Operadores lógicos\n",
        "\n",
        "Podemos usar operadores lógicos para selecionar linhas do DataFrame. Por exemplo, podemos selecionar as linhas onde o valor da coluna `year` é igual a 2018."
      ],
<<<<<<< HEAD
      "id": "a60d55ef"
=======
      "id": "c08f51be"
>>>>>>> 021b1e17f88b8fa0d99a6d41a52c0b3b9d2c6f5d
    },
    {
      "cell_type": "code",
      "metadata": {},
      "source": [
        "# Selecionando as linhas onde o valor da coluna year é igual a 2018\n",
        "x = df[df.year == 2018]\n",
        "print(x)"
      ],
<<<<<<< HEAD
      "id": "19dcb0d1",
=======
      "id": "357191c1",
>>>>>>> 021b1e17f88b8fa0d99a6d41a52c0b3b9d2c6f5d
      "execution_count": null,
      "outputs": []
    },
    {
      "cell_type": "markdown",
      "metadata": {},
      "source": [
        "Selecioando linhas onde life_ladder é maior que 5."
      ],
<<<<<<< HEAD
      "id": "4c62a1e4"
=======
      "id": "fad025ea"
>>>>>>> 021b1e17f88b8fa0d99a6d41a52c0b3b9d2c6f5d
    },
    {
      "cell_type": "code",
      "metadata": {},
      "source": [
        "# Selecionando as linhas onde o valor da coluna life_ladder é maior que 5\n",
        "x = df[df.life_ladder > 5]\n",
        "x"
      ],
<<<<<<< HEAD
      "id": "955c056a",
=======
      "id": "69fbbf21",
>>>>>>> 021b1e17f88b8fa0d99a6d41a52c0b3b9d2c6f5d
      "execution_count": null,
      "outputs": []
    },
    {
      "cell_type": "markdown",
      "metadata": {},
      "source": [
        "Resetando o índice do DataFrame filtrado."
      ],
<<<<<<< HEAD
      "id": "1111586e"
=======
      "id": "7ec86530"
>>>>>>> 021b1e17f88b8fa0d99a6d41a52c0b3b9d2c6f5d
    },
    {
      "cell_type": "code",
      "metadata": {},
      "source": [
        "new_df = df[df[\"year\"] == 2022]\n",
        "new_df = new_df.reset_index(drop=True)\n",
        "new_df"
      ],
<<<<<<< HEAD
      "id": "d702539a",
=======
      "id": "9bdd7ce3",
>>>>>>> 021b1e17f88b8fa0d99a6d41a52c0b3b9d2c6f5d
      "execution_count": null,
      "outputs": []
    },
    {
      "cell_type": "markdown",
      "metadata": {},
      "source": [
        "# Visualizando dados faltantes\n",
        "Podemos visualizar os dados faltantes do DataFrame com o comando `df.isnull().sum()`."
      ],
<<<<<<< HEAD
      "id": "345299fd"
=======
      "id": "138b6b8a"
>>>>>>> 021b1e17f88b8fa0d99a6d41a52c0b3b9d2c6f5d
    },
    {
      "cell_type": "code",
      "metadata": {},
      "source": [
        "df.isnull().sum()"
      ],
<<<<<<< HEAD
      "id": "81fdca8e",
=======
      "id": "59993941",
>>>>>>> 021b1e17f88b8fa0d99a6d41a52c0b3b9d2c6f5d
      "execution_count": null,
      "outputs": []
    },
    {
      "cell_type": "markdown",
      "metadata": {},
      "source": [
        "# Estatísticas descritivas\n",
        "Podemos visualizar as estatísticas descritivas do DataFrame com o comando `df.describe()`."
      ],
<<<<<<< HEAD
      "id": "f230db15"
=======
      "id": "15d3d735"
>>>>>>> 021b1e17f88b8fa0d99a6d41a52c0b3b9d2c6f5d
    },
    {
      "cell_type": "code",
      "metadata": {},
      "source": [
        "df.describe()"
      ],
<<<<<<< HEAD
      "id": "fa2e68a9",
=======
      "id": "1fd17057",
>>>>>>> 021b1e17f88b8fa0d99a6d41a52c0b3b9d2c6f5d
      "execution_count": null,
      "outputs": []
    },
    {
      "cell_type": "markdown",
      "metadata": {},
      "source": [
        "# Plotando gráficos\n"
      ],
<<<<<<< HEAD
      "id": "043ff0f5"
=======
      "id": "2d2e7f29"
>>>>>>> 021b1e17f88b8fa0d99a6d41a52c0b3b9d2c6f5d
    },
    {
      "cell_type": "code",
      "metadata": {},
      "source": [
        "df.plot()"
      ],
<<<<<<< HEAD
      "id": "5ff226b5",
=======
      "id": "b29f2b8a",
>>>>>>> 021b1e17f88b8fa0d99a6d41a52c0b3b9d2c6f5d
      "execution_count": null,
      "outputs": []
    },
    {
      "cell_type": "markdown",
      "metadata": {},
      "source": [
        "Como pudemos notar a plotagem do gráfico não ficou muito legível. Podemos melhorar a visualização do gráfico. Para isso, vamos plotar um gráfico de dispersão com a coluna `log_gdp_per_capita` no eixo x e a coluna `life_ladder` no eixo y."
      ],
<<<<<<< HEAD
      "id": "a62e719d"
=======
      "id": "82a2a913"
>>>>>>> 021b1e17f88b8fa0d99a6d41a52c0b3b9d2c6f5d
    },
    {
      "cell_type": "code",
      "metadata": {},
      "source": [
        "df.plot(kind='scatter', x='log_gdp_per_capita', y='life_ladder')"
      ],
<<<<<<< HEAD
      "id": "c261b455",
=======
      "id": "809d9136",
>>>>>>> 021b1e17f88b8fa0d99a6d41a52c0b3b9d2c6f5d
      "execution_count": null,
      "outputs": []
    },
    {
      "cell_type": "markdown",
      "metadata": {},
      "source": [
        "Podemos melhorar a visualização do gráfico adicionando cores e alterando o tamanho dos pontos. Para isso, vamos criar um dicionário com as cores que queremos usar e passar esse dicionário para o parâmetro `c` do método `plot`."
      ],
<<<<<<< HEAD
      "id": "1a12ac7c"
=======
      "id": "b4376526"
>>>>>>> 021b1e17f88b8fa0d99a6d41a52c0b3b9d2c6f5d
    },
    {
      "cell_type": "code",
      "metadata": {},
      "source": [
        "cmap = {\n",
        "    'Brazil': 'Green',\n",
        "    'Slovenia': 'Orange',\n",
        "    'India': 'purple'\n",
        "}\n",
        "\n",
        "df.plot(\n",
        "    kind='scatter',\n",
        "    x='log_gdp_per_capita',\n",
        "    y='life_ladder',\n",
        "    c=[cmap.get(c, 'yellow') for c in df.country_name], # Set the colors\n",
        "    s=2 # Set the size of the points\n",
        "    )"
      ],
<<<<<<< HEAD
      "id": "763fa828",
=======
      "id": "93b44bf9",
>>>>>>> 021b1e17f88b8fa0d99a6d41a52c0b3b9d2c6f5d
      "execution_count": null,
      "outputs": []
    },
    {
      "cell_type": "markdown",
      "metadata": {},
      "source": [
        "Podemos plotar um histograma da coluna `life_ladder` com o comando `df.hist(\"life_ladder\")`."
      ],
<<<<<<< HEAD
      "id": "a01c6097"
=======
      "id": "94dfdc9d"
>>>>>>> 021b1e17f88b8fa0d99a6d41a52c0b3b9d2c6f5d
    },
    {
      "cell_type": "code",
      "metadata": {},
      "source": [
        "df.hist(\"life_ladder\")"
      ],
<<<<<<< HEAD
      "id": "7b30ec7b",
=======
      "id": "f541f23e",
>>>>>>> 021b1e17f88b8fa0d99a6d41a52c0b3b9d2c6f5d
      "execution_count": null,
      "outputs": []
    },
    {
      "cell_type": "markdown",
      "metadata": {},
      "source": [
        "Além disso podemos criar gráficos com o seaborn. Por exemplo, podemos criar um gráfico de dispersão com a coluna `log_gdp_per_capita` no eixo x e a coluna `life_ladder` no eixo y."
      ],
<<<<<<< HEAD
      "id": "4d08234b"
=======
      "id": "33c70035"
>>>>>>> 021b1e17f88b8fa0d99a6d41a52c0b3b9d2c6f5d
    },
    {
      "cell_type": "code",
      "metadata": {},
      "source": [
        "sns.scatterplot(data=df, x='log_gdp_per_capita', y='life_ladder')"
      ],
<<<<<<< HEAD
      "id": "f7f7ee8d",
=======
      "id": "b40008f0",
>>>>>>> 021b1e17f88b8fa0d99a6d41a52c0b3b9d2c6f5d
      "execution_count": null,
      "outputs": []
    },
    {
      "cell_type": "markdown",
      "metadata": {},
      "source": [
        "Podemos plotar vários gráficos ao mesmo tempo com o seaborn. "
      ],
<<<<<<< HEAD
      "id": "def88ae7"
=======
      "id": "c20570cb"
>>>>>>> 021b1e17f88b8fa0d99a6d41a52c0b3b9d2c6f5d
    },
    {
      "cell_type": "code",
      "metadata": {},
      "source": [
        "sns.pairplot(df)"
      ],
<<<<<<< HEAD
      "id": "44594d23",
=======
      "id": "9b9393bd",
>>>>>>> 021b1e17f88b8fa0d99a6d41a52c0b3b9d2c6f5d
      "execution_count": null,
      "outputs": []
    },
    {
      "cell_type": "markdown",
      "metadata": {},
      "source": [
        "# Operações com colunas\n",
        "\n",
        "Podemos criar uma nova coluna no DataFrame com o comando `df['nova_coluna'] = df['coluna1'] + df['coluna2']`."
      ],
<<<<<<< HEAD
      "id": "cafc423b"
=======
      "id": "bb3fa030"
>>>>>>> 021b1e17f88b8fa0d99a6d41a52c0b3b9d2c6f5d
    },
    {
      "cell_type": "code",
      "metadata": {},
      "source": [
        "df['this_column_makes_no_sense'] = df[\"year\"] + df[\"life_ladder\"]\n",
        "df[\"net_affect_difference\"] = df[\"positive_affect\"] - df[\"negative_affect\"]\n",
        "\n",
        "df.head()"
      ],
<<<<<<< HEAD
      "id": "0ff6dec8",
=======
      "id": "bc92dd7c",
>>>>>>> 021b1e17f88b8fa0d99a6d41a52c0b3b9d2c6f5d
      "execution_count": null,
      "outputs": []
    }
  ],
  "metadata": {
    "kernelspec": {
      "name": "python3",
      "language": "python",
      "display_name": "Python 3 (ipykernel)",
      "path": "C:\\Users\\welli\\AppData\\Local\\Programs\\Python\\Python313\\share\\jupyter\\kernels\\python3"
    }
  },
  "nbformat": 4,
  "nbformat_minor": 5
}