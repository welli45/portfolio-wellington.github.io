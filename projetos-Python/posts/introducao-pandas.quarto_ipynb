{
  "cells": [
    {
      "cell_type": "markdown",
      "metadata": {},
      "source": [
        "---\n",
        "title: \"Análise exploratória de dados\"\n",
        "subtitle: \"Introdução ao Pandas\"\n",
        "description: \"Pandas\"\n",
        "author: \"Wellington Santos Souza\"\n",
        "date: \"2024-09-12\"\n",
        "format: \n",
        "  html:\n",
        "    code-fold: false\n",
        "categories: [Pandas, Python]\n",
        "open-graph:\n",
        "  description: \"Pandas\"\n",
        "  image: ../images/03.pandas/pandas.svg\n",
        "twitter-card:\n",
        "  description: \"Pandas\"\n",
        "  image: ../images/03.pandas/pandas.svg\n",
        "---\n",
        "\n",
        "\n",
        "*Este artigo foi reescrito em Domingo, 08 de Setembro de 2024.*\n",
        "\n",
        "![](../images/03.pandas/pandas.svg){fig-alt=\"Pandas\" fig-title=\"Pandas\"}\n",
        "\n",
        "# Introdução\n",
        "\n",
        "O pandas é uma ferramenta de análise e manipulação de dados de código aberto rápida, poderosa, flexível e fácil de usar, desenvolvida com base na linguagem de programação Python. Clique [aqui!](https://pandas.pydata.org/docs/index.html) para acessar a documentação oficial do Pandas.\n",
        "\n",
        "Para instalar o Pandas, basta executar o comando: `pip install pandas` no terminal.\n",
        "Com o pandas instalado, podemos carrega-lo com o comando `import pandas as pd`. \n",
        "Vamos importar a biblioteca seaborn para plotar gráficos com o comando `import seaborn as sns`.\n"
      ],
      "id": "12efa3c9"
    },
    {
      "cell_type": "code",
      "metadata": {},
      "source": [
        "import pandas as pd\n",
        "import seaborn as sns"
      ],
      "id": "af4f8ba5",
      "execution_count": null,
      "outputs": []
    },
    {
      "cell_type": "markdown",
      "metadata": {},
      "source": [
        "Agora que temos o pandas carregado podemos importar um arquivo CSV para análise. Além disso, podemos usar o pandas para coletar dados em diversos formatos, como JSON, HTML, SQL, Excel, entre outros. Para mais informações sobre como carregar dados com o pandas, clique [aqui!](https://pandas.pydata.org/pandas-docs/stable/reference/io.html).\n"
      ],
      "id": "ed0359bd"
    },
    {
      "cell_type": "code",
      "metadata": {},
      "source": [
        "df = pd.read_csv('../dados/world_happiness.csv')"
      ],
      "id": "1eecb528",
      "execution_count": null,
      "outputs": []
    },
    {
      "cell_type": "markdown",
      "metadata": {},
      "source": [
        "## Operações básicas com o Pandas\n",
        "\n",
        "Podemos visualizar as primeiras linhas do nosso DataFrame com o comando `df.head()`. Para visualizar as últimas linhas, basta usar o comando `df.tail()`."
      ],
      "id": "e32a3ff7"
    },
    {
      "cell_type": "code",
      "metadata": {},
      "source": [
        "# Visualizando as primeiras linhas do DataFrame\n",
        "df.head()"
      ],
      "id": "af845b2f",
      "execution_count": null,
      "outputs": []
    },
    {
      "cell_type": "code",
      "metadata": {},
      "source": [
        "# Visualizando as últimas linhas do DataFrame\n",
        "df.tail()"
      ],
      "id": "f502422f",
      "execution_count": null,
      "outputs": []
    },
    {
      "cell_type": "markdown",
      "metadata": {},
      "source": [
        "Podemos visualizar os índices e nome das colunas do DataFrame com os comandos `df.index` e `df.columns`, respectivamente."
      ],
      "id": "f90f9901"
    },
    {
      "cell_type": "code",
      "metadata": {},
      "source": [
        "# Visualizando os índices do DataFrame\n",
        "df.index"
      ],
      "id": "da3a01ec",
      "execution_count": null,
      "outputs": []
    },
    {
      "cell_type": "code",
      "metadata": {},
      "source": [
        "# Visualizando os nomes das colunas do DataFrame\n",
        "df.columns"
      ],
      "id": "c8485f24",
      "execution_count": null,
      "outputs": []
    },
    {
      "cell_type": "markdown",
      "metadata": {},
      "source": [
        "Como vimos as colunas possuem espaços em seus nomes, para remover esses espaços podemos usar o comando `df.columns = df.columns.str.replace(' ', '_')`."
      ],
      "id": "8861b4eb"
    },
    {
      "cell_type": "code",
      "metadata": {},
      "source": [
        "# Removendo os espaços dos nomes das colunas\n",
        "df.columns = df.columns.str.replace(' ', '_')"
      ],
      "id": "5cae72aa",
      "execution_count": null,
      "outputs": []
    },
    {
      "cell_type": "markdown",
      "metadata": {},
      "source": [
        "Além disso, podemos colocar os nomes das colunas em minúsculo."
      ],
      "id": "b78be423"
    },
    {
      "cell_type": "code",
      "metadata": {},
      "source": [
        "# Colocando os nomes das colunas em minúsculo\n",
        "df.columns = df.columns.str.lower()"
      ],
      "id": "9deb0902",
      "execution_count": null,
      "outputs": []
    },
    {
      "cell_type": "code",
      "metadata": {},
      "source": [
        "# Visualizando os nomes das colunas do DataFrame\n",
        "df.columns"
      ],
      "id": "00cf0001",
      "execution_count": null,
      "outputs": []
    },
    {
      "cell_type": "markdown",
      "metadata": {},
      "source": [
        "Podemos visualizar as informações do DataFrame com o comando `df.info()`. Além disso, podemos visualizar o tipo dos dados de cada coluna com o comando `df.dtypes`."
      ],
      "id": "0fbf0a73"
    },
    {
      "cell_type": "code",
      "metadata": {},
      "source": [
        "# Visualizando as informações do DataFrame\n",
        "df.info()"
      ],
      "id": "b94ba4d9",
      "execution_count": null,
      "outputs": []
    },
    {
      "cell_type": "code",
      "metadata": {},
      "source": [
        "# Visualizando o tipo dos dados de cada coluna\n",
        "df.dtypes"
      ],
      "id": "db68a8a0",
      "execution_count": null,
      "outputs": []
    },
    {
      "cell_type": "markdown",
      "metadata": {},
      "source": [
        "# Selecionando linhas e colunas do DataFrame\n",
        "\n",
        "## Selecionando colunas do DataFrame\n",
        "\n",
        "Podemos selecionar a coluna `life_ladder` do DataFrame com o comando `df.life_ladder`. Além disso, podemos selecionar mais de uma coluna passando uma lista com os nomes das colunas desejadas."
      ],
      "id": "24818fe0"
    },
    {
      "cell_type": "code",
      "metadata": {},
      "source": [
        "# Selecionando a coluna life_ladder\n",
        "x = df.life_ladder\n",
        "print(x)"
      ],
      "id": "bad5c045",
      "execution_count": null,
      "outputs": []
    },
    {
      "cell_type": "markdown",
      "metadata": {},
      "source": [
        "Uma outra forma é passar o nome da coluna entre colchetes, como no exemplo abaixo."
      ],
      "id": "a8d16a63"
    },
    {
      "cell_type": "code",
      "metadata": {},
      "source": [
        "# Selecionando a coluna life_ladder\n",
        "x = df['life_ladder']\n",
        "print(x)"
      ],
      "id": "c014629f",
      "execution_count": null,
      "outputs": []
    },
    {
      "cell_type": "markdown",
      "metadata": {},
      "source": [
        "## Selecionando linhas do DataFrame\n",
        "\n",
        "Podemos selecionar as linhas de um DataFrame com o comando `df[1:5]`. "
      ],
      "id": "2164288b"
    },
    {
      "cell_type": "code",
      "metadata": {},
      "source": [
        "# Selecionando as linhas de 1 a 5\n",
        "x = df[1:5]\n",
        "print(x)"
      ],
      "id": "5067c601",
      "execution_count": null,
      "outputs": []
    },
    {
      "cell_type": "markdown",
      "metadata": {},
      "source": [
        "# Operadores lógicos\n",
        "\n",
        "Podemos usar operadores lógicos para selecionar linhas do DataFrame. Por exemplo, podemos selecionar as linhas onde o valor da coluna `year` é igual a 2018."
      ],
      "id": "a60d55ef"
    },
    {
      "cell_type": "code",
      "metadata": {},
      "source": [
        "# Selecionando as linhas onde o valor da coluna year é igual a 2018\n",
        "x = df[df.year == 2018]\n",
        "print(x)"
      ],
      "id": "19dcb0d1",
      "execution_count": null,
      "outputs": []
    },
    {
      "cell_type": "markdown",
      "metadata": {},
      "source": [
        "Selecioando linhas onde life_ladder é maior que 5."
      ],
      "id": "4c62a1e4"
    },
    {
      "cell_type": "code",
      "metadata": {},
      "source": [
        "# Selecionando as linhas onde o valor da coluna life_ladder é maior que 5\n",
        "x = df[df.life_ladder > 5]\n",
        "x"
      ],
      "id": "955c056a",
      "execution_count": null,
      "outputs": []
    },
    {
      "cell_type": "markdown",
      "metadata": {},
      "source": [
        "Resetando o índice do DataFrame filtrado."
      ],
      "id": "1111586e"
    },
    {
      "cell_type": "code",
      "metadata": {},
      "source": [
        "new_df = df[df[\"year\"] == 2022]\n",
        "new_df = new_df.reset_index(drop=True)\n",
        "new_df"
      ],
      "id": "d702539a",
      "execution_count": null,
      "outputs": []
    },
    {
      "cell_type": "markdown",
      "metadata": {},
      "source": [
        "# Visualizando dados faltantes\n",
        "Podemos visualizar os dados faltantes do DataFrame com o comando `df.isnull().sum()`."
      ],
      "id": "345299fd"
    },
    {
      "cell_type": "code",
      "metadata": {},
      "source": [
        "df.isnull().sum()"
      ],
      "id": "81fdca8e",
      "execution_count": null,
      "outputs": []
    },
    {
      "cell_type": "markdown",
      "metadata": {},
      "source": [
        "# Estatísticas descritivas\n",
        "Podemos visualizar as estatísticas descritivas do DataFrame com o comando `df.describe()`."
      ],
      "id": "f230db15"
    },
    {
      "cell_type": "code",
      "metadata": {},
      "source": [
        "df.describe()"
      ],
      "id": "fa2e68a9",
      "execution_count": null,
      "outputs": []
    },
    {
      "cell_type": "markdown",
      "metadata": {},
      "source": [
        "# Plotando gráficos\n"
      ],
      "id": "043ff0f5"
    },
    {
      "cell_type": "code",
      "metadata": {},
      "source": [
        "df.plot()"
      ],
      "id": "5ff226b5",
      "execution_count": null,
      "outputs": []
    },
    {
      "cell_type": "markdown",
      "metadata": {},
      "source": [
        "Como pudemos notar a plotagem do gráfico não ficou muito legível. Podemos melhorar a visualização do gráfico. Para isso, vamos plotar um gráfico de dispersão com a coluna `log_gdp_per_capita` no eixo x e a coluna `life_ladder` no eixo y."
      ],
      "id": "a62e719d"
    },
    {
      "cell_type": "code",
      "metadata": {},
      "source": [
        "df.plot(kind='scatter', x='log_gdp_per_capita', y='life_ladder')"
      ],
      "id": "c261b455",
      "execution_count": null,
      "outputs": []
    },
    {
      "cell_type": "markdown",
      "metadata": {},
      "source": [
        "Podemos melhorar a visualização do gráfico adicionando cores e alterando o tamanho dos pontos. Para isso, vamos criar um dicionário com as cores que queremos usar e passar esse dicionário para o parâmetro `c` do método `plot`."
      ],
      "id": "1a12ac7c"
    },
    {
      "cell_type": "code",
      "metadata": {},
      "source": [
        "cmap = {\n",
        "    'Brazil': 'Green',\n",
        "    'Slovenia': 'Orange',\n",
        "    'India': 'purple'\n",
        "}\n",
        "\n",
        "df.plot(\n",
        "    kind='scatter',\n",
        "    x='log_gdp_per_capita',\n",
        "    y='life_ladder',\n",
        "    c=[cmap.get(c, 'yellow') for c in df.country_name], # Set the colors\n",
        "    s=2 # Set the size of the points\n",
        "    )"
      ],
      "id": "763fa828",
      "execution_count": null,
      "outputs": []
    },
    {
      "cell_type": "markdown",
      "metadata": {},
      "source": [
        "Podemos plotar um histograma da coluna `life_ladder` com o comando `df.hist(\"life_ladder\")`."
      ],
      "id": "a01c6097"
    },
    {
      "cell_type": "code",
      "metadata": {},
      "source": [
        "df.hist(\"life_ladder\")"
      ],
      "id": "7b30ec7b",
      "execution_count": null,
      "outputs": []
    },
    {
      "cell_type": "markdown",
      "metadata": {},
      "source": [
        "Além disso podemos criar gráficos com o seaborn. Por exemplo, podemos criar um gráfico de dispersão com a coluna `log_gdp_per_capita` no eixo x e a coluna `life_ladder` no eixo y."
      ],
      "id": "4d08234b"
    },
    {
      "cell_type": "code",
      "metadata": {},
      "source": [
        "sns.scatterplot(data=df, x='log_gdp_per_capita', y='life_ladder')"
      ],
      "id": "f7f7ee8d",
      "execution_count": null,
      "outputs": []
    },
    {
      "cell_type": "markdown",
      "metadata": {},
      "source": [
        "Podemos plotar vários gráficos ao mesmo tempo com o seaborn. "
      ],
      "id": "def88ae7"
    },
    {
      "cell_type": "code",
      "metadata": {},
      "source": [
        "sns.pairplot(df)"
      ],
      "id": "44594d23",
      "execution_count": null,
      "outputs": []
    },
    {
      "cell_type": "markdown",
      "metadata": {},
      "source": [
        "# Operações com colunas\n",
        "\n",
        "Podemos criar uma nova coluna no DataFrame com o comando `df['nova_coluna'] = df['coluna1'] + df['coluna2']`."
      ],
      "id": "cafc423b"
    },
    {
      "cell_type": "code",
      "metadata": {},
      "source": [
        "df['this_column_makes_no_sense'] = df[\"year\"] + df[\"life_ladder\"]\n",
        "df[\"net_affect_difference\"] = df[\"positive_affect\"] - df[\"negative_affect\"]\n",
        "\n",
        "df.head()"
      ],
      "id": "0ff6dec8",
      "execution_count": null,
      "outputs": []
    }
  ],
  "metadata": {
    "kernelspec": {
      "name": "python3",
      "language": "python",
      "display_name": "Python 3 (ipykernel)",
      "path": "C:\\Users\\welli\\AppData\\Local\\Programs\\Python\\Python313\\share\\jupyter\\kernels\\python3"
    }
  },
  "nbformat": 4,
  "nbformat_minor": 5
}