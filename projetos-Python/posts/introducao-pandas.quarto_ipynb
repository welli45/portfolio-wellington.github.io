{
  "cells": [
    {
      "cell_type": "markdown",
      "metadata": {},
      "source": [
        "---\n",
        "title: \"Análise exploratória de dados\"\n",
        "subtitle: \"Introdução ao Pandas\"\n",
        "description: \"Pandas\"\n",
        "author: \"Wellington Santos Souza\"\n",
        "date: \"2024-09-12\"\n",
        "format: \n",
        "  html:\n",
        "    code-fold: false\n",
        "categories: [Pandas, Python]\n",
        "open-graph:\n",
        "  description: \"Pandas\"\n",
        "  image: ../images/03.pandas/pandas.svg\n",
        "twitter-card:\n",
        "  description: \"Pandas\"\n",
        "  image: ../images/03.pandas/pandas.svg\n",
        "---\n",
        "\n",
        "\n",
        "*Este artigo foi reescrito em Domingo, 08 de Setembro de 2024.*\n",
        "\n",
        "![](../images/03.pandas/pandas.svg){fig-alt=\"Pandas\" fig-title=\"Pandas\"}\n",
        "\n",
        "# Introdução\n",
        "\n",
        "O pandas é uma ferramenta de análise e manipulação de dados de código aberto rápida, poderosa, flexível e fácil de usar, desenvolvida com base na linguagem de programação Python. Clique [aqui!](https://pandas.pydata.org/docs/index.html) para acessar a documentação oficial do Pandas.\n",
        "\n",
        "Para instalar o Pandas, basta executar o comando: `pip install pandas` no terminal.\n",
        "Com o pandas instalado, podemos carrega-lo com o comando `import pandas as pd`. \n",
        "Vamos importar a biblioteca seaborn para plotar gráficos com o comando `import seaborn as sns`.\n"
      ],
      "id": "de353120"
    },
    {
      "cell_type": "code",
      "metadata": {},
      "source": [
        "import pandas as pd\n",
        "import seaborn as sns"
      ],
      "id": "260fa7d8",
      "execution_count": null,
      "outputs": []
    },
    {
      "cell_type": "markdown",
      "metadata": {},
      "source": [
        "Agora que temos o pandas carregado podemos importar um arquivo CSV para análise. Além disso, podemos usar o pandas para coletar dados em diversos formatos, como JSON, HTML, SQL, Excel, entre outros. Para mais informações sobre como carregar dados com o pandas, clique [aqui!](https://pandas.pydata.org/pandas-docs/stable/reference/io.html).\n"
      ],
      "id": "11ecb914"
    },
    {
      "cell_type": "code",
      "metadata": {},
      "source": [
        "df = pd.read_csv('../dados/world_happiness.csv')"
      ],
      "id": "9f7d10f7",
      "execution_count": null,
      "outputs": []
    },
    {
      "cell_type": "markdown",
      "metadata": {},
      "source": [
        "## Operações básicas com o Pandas\n",
        "\n",
        "Podemos visualizar as primeiras linhas do nosso DataFrame com o comando `df.head()`. Para visualizar as últimas linhas, basta usar o comando `df.tail()`."
      ],
      "id": "37dca0d5"
    },
    {
      "cell_type": "code",
      "metadata": {},
      "source": [
        "# Visualizando as primeiras linhas do DataFrame\n",
        "df.head()"
      ],
      "id": "5e76f221",
      "execution_count": null,
      "outputs": []
    },
    {
      "cell_type": "code",
      "metadata": {},
      "source": [
        "# Visualizando as últimas linhas do DataFrame\n",
        "df.tail()"
      ],
      "id": "d780910a",
      "execution_count": null,
      "outputs": []
    },
    {
      "cell_type": "markdown",
      "metadata": {},
      "source": [
        "Podemos visualizar os índices e nome das colunas do DataFrame com os comandos `df.index` e `df.columns`, respectivamente."
      ],
      "id": "5ede1cbb"
    },
    {
      "cell_type": "code",
      "metadata": {},
      "source": [
        "# Visualizando os índices do DataFrame\n",
        "df.index"
      ],
      "id": "cd637184",
      "execution_count": null,
      "outputs": []
    },
    {
      "cell_type": "code",
      "metadata": {},
      "source": [
        "# Visualizando os nomes das colunas do DataFrame\n",
        "df.columns"
      ],
      "id": "c633a7c2",
      "execution_count": null,
      "outputs": []
    },
    {
      "cell_type": "markdown",
      "metadata": {},
      "source": [
        "Como vimos as colunas possuem espaços em seus nomes, para remover esses espaços podemos usar o comando `df.columns = df.columns.str.replace(' ', '_')`."
      ],
      "id": "e167965b"
    },
    {
      "cell_type": "code",
      "metadata": {},
      "source": [
        "# Removendo os espaços dos nomes das colunas\n",
        "df.columns = df.columns.str.replace(' ', '_')"
      ],
      "id": "bc3c0251",
      "execution_count": null,
      "outputs": []
    },
    {
      "cell_type": "markdown",
      "metadata": {},
      "source": [
        "Além disso, podemos colocar os nomes das colunas em minúsculo."
      ],
      "id": "83d53676"
    },
    {
      "cell_type": "code",
      "metadata": {},
      "source": [
        "# Colocando os nomes das colunas em minúsculo\n",
        "df.columns = df.columns.str.lower()"
      ],
      "id": "63ceca2b",
      "execution_count": null,
      "outputs": []
    },
    {
      "cell_type": "code",
      "metadata": {},
      "source": [
        "# Visualizando os nomes das colunas do DataFrame\n",
        "df.columns"
      ],
      "id": "1dc9d479",
      "execution_count": null,
      "outputs": []
    },
    {
      "cell_type": "markdown",
      "metadata": {},
      "source": [
        "Podemos visualizar as informações do DataFrame com o comando `df.info()`. Além disso, podemos visualizar o tipo dos dados de cada coluna com o comando `df.dtypes`."
      ],
      "id": "2ae776cd"
    },
    {
      "cell_type": "code",
      "metadata": {},
      "source": [
        "# Visualizando as informações do DataFrame\n",
        "df.info()"
      ],
      "id": "a88b7441",
      "execution_count": null,
      "outputs": []
    },
    {
      "cell_type": "code",
      "metadata": {},
      "source": [
        "# Visualizando o tipo dos dados de cada coluna\n",
        "df.dtypes"
      ],
      "id": "e4983d1f",
      "execution_count": null,
      "outputs": []
    },
    {
      "cell_type": "markdown",
      "metadata": {},
      "source": [
        "# Selecionando linhas e colunas do DataFrame\n",
        "\n",
        "## Selecionando colunas do DataFrame\n",
        "\n",
        "Podemos selecionar a coluna `life_ladder` do DataFrame com o comando `df.life_ladder`. Além disso, podemos selecionar mais de uma coluna passando uma lista com os nomes das colunas desejadas."
      ],
      "id": "ef41ba6a"
    },
    {
      "cell_type": "code",
      "metadata": {},
      "source": [
        "# Selecionando a coluna life_ladder\n",
        "x = df.life_ladder\n",
        "print(x)"
      ],
      "id": "46adaf65",
      "execution_count": null,
      "outputs": []
    },
    {
      "cell_type": "markdown",
      "metadata": {},
      "source": [
        "Uma outra forma é passar o nome da coluna entre colchetes, como no exemplo abaixo."
      ],
      "id": "1e4c99e3"
    },
    {
      "cell_type": "code",
      "metadata": {},
      "source": [
        "# Selecionando a coluna life_ladder\n",
        "x = df['life_ladder']\n",
        "print(x)"
      ],
      "id": "fb0760bc",
      "execution_count": null,
      "outputs": []
    },
    {
      "cell_type": "markdown",
      "metadata": {},
      "source": [
        "## Selecionando linhas do DataFrame\n",
        "\n",
        "Podemos selecionar as linhas de um DataFrame com o comando `df[1:5]`. "
      ],
      "id": "1a79c37d"
    },
    {
      "cell_type": "code",
      "metadata": {},
      "source": [
        "# Selecionando as linhas de 1 a 5\n",
        "x = df[1:5]\n",
        "print(x)"
      ],
      "id": "94f57daa",
      "execution_count": null,
      "outputs": []
    },
    {
      "cell_type": "markdown",
      "metadata": {},
      "source": [
        "# Operadores lógicos\n",
        "\n",
        "Podemos usar operadores lógicos para selecionar linhas do DataFrame. Por exemplo, podemos selecionar as linhas onde o valor da coluna `year` é igual a 2018."
      ],
      "id": "38135f0f"
    },
    {
      "cell_type": "code",
      "metadata": {},
      "source": [
        "# Selecionando as linhas onde o valor da coluna year é igual a 2018\n",
        "x = df[df.year == 2018]\n",
        "print(x)"
      ],
      "id": "fbea9812",
      "execution_count": null,
      "outputs": []
    },
    {
      "cell_type": "markdown",
      "metadata": {},
      "source": [
        "Selecioando linhas onde life_ladder é maior que 5."
      ],
      "id": "198f5f26"
    },
    {
      "cell_type": "code",
      "metadata": {},
      "source": [
        "# Selecionando as linhas onde o valor da coluna life_ladder é maior que 5\n",
        "x = df[df.life_ladder > 5]\n",
        "x"
      ],
      "id": "8de47d42",
      "execution_count": null,
      "outputs": []
    },
    {
      "cell_type": "markdown",
      "metadata": {},
      "source": [
        "Resetando o índice do DataFrame filtrado."
      ],
      "id": "1af38963"
    },
    {
      "cell_type": "code",
      "metadata": {},
      "source": [
        "new_df = df[df[\"year\"] == 2022]\n",
        "new_df = new_df.reset_index(drop=True)\n",
        "new_df"
      ],
      "id": "3977c828",
      "execution_count": null,
      "outputs": []
    },
    {
      "cell_type": "markdown",
      "metadata": {},
      "source": [
        "# Visualizando dados faltantes\n",
        "Podemos visualizar os dados faltantes do DataFrame com o comando `df.isnull().sum()`."
      ],
      "id": "45bdeb3c"
    },
    {
      "cell_type": "code",
      "metadata": {},
      "source": [
        "df.isnull().sum()"
      ],
      "id": "6e9aee3e",
      "execution_count": null,
      "outputs": []
    },
    {
      "cell_type": "markdown",
      "metadata": {},
      "source": [
        "# Estatísticas descritivas\n",
        "Podemos visualizar as estatísticas descritivas do DataFrame com o comando `df.describe()`."
      ],
      "id": "c3ba19e7"
    },
    {
      "cell_type": "code",
      "metadata": {},
      "source": [
        "df.describe()"
      ],
      "id": "595f9387",
      "execution_count": null,
      "outputs": []
    },
    {
      "cell_type": "markdown",
      "metadata": {},
      "source": [
        "# Plotando gráficos\n"
      ],
      "id": "3fd84247"
    },
    {
      "cell_type": "code",
      "metadata": {},
      "source": [
        "df.plot()"
      ],
      "id": "642c28a0",
      "execution_count": null,
      "outputs": []
    },
    {
      "cell_type": "markdown",
      "metadata": {},
      "source": [
        "Como pudemos notar a plotagem do gráfico não ficou muito legível. Podemos melhorar a visualização do gráfico. Para isso, vamos plotar um gráfico de dispersão com a coluna `log_gdp_per_capita` no eixo x e a coluna `life_ladder` no eixo y."
      ],
      "id": "c66b4271"
    },
    {
      "cell_type": "code",
      "metadata": {},
      "source": [
        "df.plot(kind='scatter', x='log_gdp_per_capita', y='life_ladder')"
      ],
      "id": "7fbe7d07",
      "execution_count": null,
      "outputs": []
    },
    {
      "cell_type": "markdown",
      "metadata": {},
      "source": [
        "Podemos melhorar a visualização do gráfico adicionando cores e alterando o tamanho dos pontos. Para isso, vamos criar um dicionário com as cores que queremos usar e passar esse dicionário para o parâmetro `c` do método `plot`."
      ],
      "id": "29e30b7f"
    },
    {
      "cell_type": "code",
      "metadata": {},
      "source": [
        "cmap = {\n",
        "    'Brazil': 'Green',\n",
        "    'Slovenia': 'Orange',\n",
        "    'India': 'purple'\n",
        "}\n",
        "\n",
        "df.plot(\n",
        "    kind='scatter',\n",
        "    x='log_gdp_per_capita',\n",
        "    y='life_ladder',\n",
        "    c=[cmap.get(c, 'yellow') for c in df.country_name], # Set the colors\n",
        "    s=2 # Set the size of the points\n",
        "    )"
      ],
      "id": "4c770c29",
      "execution_count": null,
      "outputs": []
    },
    {
      "cell_type": "markdown",
      "metadata": {},
      "source": [
        "Podemos plotar um histograma da coluna `life_ladder` com o comando `df.hist(\"life_ladder\")`."
      ],
      "id": "ff324947"
    },
    {
      "cell_type": "code",
      "metadata": {},
      "source": [
        "df.hist(\"life_ladder\")"
      ],
      "id": "a5591f74",
      "execution_count": null,
      "outputs": []
    },
    {
      "cell_type": "markdown",
      "metadata": {},
      "source": [
        "Além disso podemos criar gráficos com o seaborn. Por exemplo, podemos criar um gráfico de dispersão com a coluna `log_gdp_per_capita` no eixo x e a coluna `life_ladder` no eixo y."
      ],
      "id": "c3a63613"
    },
    {
      "cell_type": "code",
      "metadata": {},
      "source": [
        "sns.scatterplot(data=df, x='log_gdp_per_capita', y='life_ladder')"
      ],
      "id": "187c8d9c",
      "execution_count": null,
      "outputs": []
    },
    {
      "cell_type": "markdown",
      "metadata": {},
      "source": [
        "Podemos plotar vários gráficos ao mesmo tempo com o seaborn. "
      ],
      "id": "0ed5d171"
    },
    {
      "cell_type": "code",
      "metadata": {},
      "source": [
        "sns.pairplot(df)"
      ],
      "id": "7466403f",
      "execution_count": null,
      "outputs": []
    },
    {
      "cell_type": "markdown",
      "metadata": {},
      "source": [
        "# Operações com colunas\n",
        "\n",
        "Podemos criar uma nova coluna no DataFrame com o comando `df['nova_coluna'] = df['coluna1'] + df['coluna2']`."
      ],
      "id": "90d43fb1"
    },
    {
      "cell_type": "code",
      "metadata": {},
      "source": [
        "df['this_column_makes_no_sense'] = df[\"year\"] + df[\"life_ladder\"]\n",
        "df[\"net_affect_difference\"] = df[\"positive_affect\"] - df[\"negative_affect\"]\n",
        "\n",
        "df.head()"
      ],
      "id": "4bf29895",
      "execution_count": null,
      "outputs": []
    }
  ],
  "metadata": {
    "kernelspec": {
      "name": "python3",
      "language": "python",
      "display_name": "Python 3 (ipykernel)",
      "path": "C:\\Users\\welli\\AppData\\Local\\Programs\\Python\\Python313\\share\\jupyter\\kernels\\python3"
    }
  },
  "nbformat": 4,
  "nbformat_minor": 5
}