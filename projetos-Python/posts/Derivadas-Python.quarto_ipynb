{
  "cells": [
    {
      "cell_type": "markdown",
      "metadata": {},
      "source": [
        "---\n",
        "title: \"Derivadas usando Sympy e Numpy\"\n",
        "subtitle: \"Derivadas com Python\"\n",
        "description: \"\"\n",
        "author: \"Wellington Santos Souza\"\n",
        "date: \"2024-08-23\"\n",
        "format: \n",
        "  html:\n",
        "    code-fold: true\n",
        "    code-copy: true\n",
        "    code-tools: true\n",
        "categories: [Derivadas, Python]\n",
        "open-graph:\n",
        "  description: \"Derivadas\"\n",
        "  image: ../images/02.calculo_python/derivadas.jpeg\n",
        "twitter-card:\n",
        "  description: \"Derivadas\"\n",
        "  image: ../images/02.calculo_python/derivadas.jpeg\n",
        "---\n",
        "\n",
        "\n",
        "*Este artigo foi reescrito em Sexta, 23 de Agosto de 2024.*\n",
        "\n",
        "![](../images/02.calculo_python/derivadas.jpeg){fig-alt=\"Python\" fig-title=\"Derivadas Usando Python\"}\n",
        "\n",
        "### Funções usando `Python`\n",
        "\n",
        "Para instalar as bibliotecas necessárias, use o comando: `!pip install sympy numpy`\n",
        "\n",
        "Usaremos as bibliotecas `Sympy`, `Numpy` e `JAX`\n",
        "\n",
        "**Definição de uma função usando Python**\n",
        "\n",
        "-   Se quisermos definir a função $f(x) = x^2$\n"
      ],
<<<<<<< HEAD
      "id": "40aebd0e"
=======
      "id": "2296b1ed"
>>>>>>> 021b1e17f88b8fa0d99a6d41a52c0b3b9d2c6f5d
    },
    {
      "cell_type": "code",
      "metadata": {},
      "source": [
        "def f(x):\n",
        "    return x**2\n",
        "\n",
        "print(f(3))"
      ],
<<<<<<< HEAD
      "id": "9133a9e4",
=======
      "id": "fae59386",
>>>>>>> 021b1e17f88b8fa0d99a6d41a52c0b3b9d2c6f5d
      "execution_count": null,
      "outputs": []
    },
    {
      "cell_type": "markdown",
      "metadata": {},
      "source": [
        "Podemos encontrar a derivada dessa função facilmente usando:\n"
      ],
<<<<<<< HEAD
      "id": "32013260"
=======
      "id": "db5f411c"
>>>>>>> 021b1e17f88b8fa0d99a6d41a52c0b3b9d2c6f5d
    },
    {
      "cell_type": "code",
      "metadata": {},
      "source": [
        "def dfdx(x):\n",
        "    return 2*x\n",
        "\n",
        "print(dfdx(3))"
      ],
<<<<<<< HEAD
      "id": "1b7a8f82",
=======
      "id": "8ca056b8",
>>>>>>> 021b1e17f88b8fa0d99a6d41a52c0b3b9d2c6f5d
      "execution_count": null,
      "outputs": []
    },
    {
      "cell_type": "markdown",
      "metadata": {},
      "source": [
        "Além disso, podemos aplicar essa função e calcular a derivada para cada elemento de uma array criada com Numpy:\n"
      ],
<<<<<<< HEAD
      "id": "1a77bef9"
=======
      "id": "fb10bca0"
>>>>>>> 021b1e17f88b8fa0d99a6d41a52c0b3b9d2c6f5d
    },
    {
      "cell_type": "code",
      "metadata": {},
      "source": [
        "# primeiro importamos a biblioteca\n",
        "import numpy as np\n",
        "# criamos o array\n",
        "x_array = np.array([1, 2, 3])\n",
        "# calculamos x^2 para cada elemento do array \n",
        "#e depois calculamos a derivada para cada elemento\n",
        "print(\"x: \\n\", x_array)\n",
        "print(\"f(x) = x**2: \\n\", f(x_array))\n",
        "print(\"f'(x) = 2x: \\n\", dfdx(x_array))"
      ],
<<<<<<< HEAD
      "id": "9a28be1c",
=======
      "id": "78b2fac4",
>>>>>>> 021b1e17f88b8fa0d99a6d41a52c0b3b9d2c6f5d
      "execution_count": null,
      "outputs": []
    },
    {
      "cell_type": "markdown",
      "metadata": {},
      "source": [
        "Podemos também aplicar as funções f e dfdx para arrays maiores, além disso podemos plotar os gráficos de f e dfdx\n"
      ],
<<<<<<< HEAD
      "id": "da3baa50"
=======
      "id": "d1749e94"
>>>>>>> 021b1e17f88b8fa0d99a6d41a52c0b3b9d2c6f5d
    },
    {
      "cell_type": "code",
      "metadata": {},
      "source": [
        "import matplotlib.pyplot as plt\n",
        "\n",
        "\n",
        "def plot_f1_and_f2(f1, f2=None, x_min=-5, x_max=5, label1=\"f(x)\", label2=\"f'(x)\"):\n",
        "    x = np.linspace(x_min, x_max,100)\n",
        "\n",
        " \n",
        "    fig = plt.figure()\n",
        "    ax = fig.add_subplot(1, 1, 1)\n",
        "    ax.spines['left'].set_position('center')\n",
        "    ax.spines['bottom'].set_position('zero')\n",
        "    ax.spines['right'].set_color('none')\n",
        "    ax.spines['top'].set_color('none')\n",
        "    ax.xaxis.set_ticks_position('bottom')\n",
        "    ax.yaxis.set_ticks_position('left')\n",
        "\n",
        "    plt.plot(x, f1(x), 'r', label=label1)\n",
        "    if not f2 is None:\n",
        "             \n",
        "        if isinstance(f2, np.ndarray):\n",
        "            plt.plot(x, f2, 'bo', markersize=3, label=label2,)\n",
        "        else:\n",
        "            plt.plot(x, f2(x), 'b', label=label2)\n",
        "    plt.legend()\n",
        "\n",
        "    plt.show()\n",
        "    \n",
        "plot_f1_and_f2(f, dfdx)"
      ],
<<<<<<< HEAD
      "id": "69b55540",
=======
      "id": "7ba0e96c",
>>>>>>> 021b1e17f88b8fa0d99a6d41a52c0b3b9d2c6f5d
      "execution_count": null,
      "outputs": []
    },
    {
      "cell_type": "markdown",
      "metadata": {},
      "source": [
        "## Derivadas simbólicas\n",
        "\n",
        "**Computação simbólica** lida com a computação de objetos matemáticos que são representados na forma exata, e não aproximadamente (por exemplo, $\\sqrt{2}$ será escrito exatamente assim, e não como $1.41421356237$. Para a derivada, isso significa que o resultado será de certa forma semelhante ao que seria se você estivesse calculando derivadas manualmente usando regras (analiticamente). Assim, derivadas simbólicas podem produzir resultados exatos.\n",
        "\n",
        "-   Derivadas simbólicas em `Python` usando a biblioteca `SymPy`.\n",
        "\n",
        "-   Podemos calcular o valor decimal aproximado de $\\sqrt{18}$\n"
      ],
<<<<<<< HEAD
      "id": "3ee0b546"
=======
      "id": "9d6c7535"
>>>>>>> 021b1e17f88b8fa0d99a6d41a52c0b3b9d2c6f5d
    },
    {
      "cell_type": "code",
      "metadata": {},
      "source": [
        "import math\n",
        "\n",
        "math.sqrt(18)"
      ],
<<<<<<< HEAD
      "id": "d653dc76",
=======
      "id": "8bd7477d",
>>>>>>> 021b1e17f88b8fa0d99a6d41a52c0b3b9d2c6f5d
      "execution_count": null,
      "outputs": []
    },
    {
      "cell_type": "markdown",
      "metadata": {},
      "source": [
        "**Introdução à Computação Simbólica com `SymPy`**\n",
        "\n",
        "-   O valor obtido é: $4.242640687119285$\n",
        "\n",
        "Agora se quisermos calcular: $\\sqrt{18} = \\sqrt{9 \\cdot 2} = 3\\sqrt{2}$\n"
      ],
<<<<<<< HEAD
      "id": "1d8807fb"
=======
      "id": "3313a75c"
>>>>>>> 021b1e17f88b8fa0d99a6d41a52c0b3b9d2c6f5d
    },
    {
      "cell_type": "code",
      "metadata": {},
      "source": [
        "# Esse formato de importação de módulo permite\n",
        "# usar as funções sympy sem o prefixo sympy.\n",
        "from sympy import *\n",
        "\n",
        "# Na verdade, essa é a função sympy.sqrt,\n",
        "# mas o prefixo sympy. foi omitido.\n",
        "sqrt(18)"
      ],
<<<<<<< HEAD
      "id": "ed1cddf4",
=======
      "id": "6d1fd0d7",
>>>>>>> 021b1e17f88b8fa0d99a6d41a52c0b3b9d2c6f5d
      "execution_count": null,
      "outputs": []
    },
    {
      "cell_type": "markdown",
      "metadata": {},
      "source": [
        "Para obtermos o valor aproximado fazemos\n"
      ],
<<<<<<< HEAD
      "id": "9e9184f2"
=======
      "id": "a4a2ed66"
>>>>>>> 021b1e17f88b8fa0d99a6d41a52c0b3b9d2c6f5d
    },
    {
      "cell_type": "code",
      "metadata": {},
      "source": [
        "N(sqrt(18))"
      ],
<<<<<<< HEAD
      "id": "01c7f586",
=======
      "id": "0f2a467e",
>>>>>>> 021b1e17f88b8fa0d99a6d41a52c0b3b9d2c6f5d
      "execution_count": null,
      "outputs": []
    },
    {
      "cell_type": "markdown",
      "metadata": {},
      "source": [
        "No SymPy, as variáveis são definidas usando símbolos. Nesta biblioteca específica, elas precisam ser pré-definidas (uma lista delas deve ser fornecida). Veja na célula abaixo como a expressão simbólica, correspondente à expressão matemática $2x^2 - xy$, é definida:\n"
      ],
<<<<<<< HEAD
      "id": "ab8e5483"
=======
      "id": "4bcc4fdd"
>>>>>>> 021b1e17f88b8fa0d99a6d41a52c0b3b9d2c6f5d
    },
    {
      "cell_type": "code",
      "metadata": {},
      "source": [
        "# Lista de símboos\n",
        "x, y = symbols('x y')\n",
        "# Definição da expressão.\n",
        "expr = 2 * x**2 - x * y\n",
        "expr"
      ],
<<<<<<< HEAD
      "id": "bdf0d269",
=======
      "id": "650be907",
>>>>>>> 021b1e17f88b8fa0d99a6d41a52c0b3b9d2c6f5d
      "execution_count": null,
      "outputs": []
    },
    {
      "cell_type": "markdown",
      "metadata": {},
      "source": [
        "Pode realizar várias manipulações com essa expressão: adicionar ou subtrair alguns termos, multiplicar por outras expressões, etc., assim como se estivesse fazendo isso manualmente:\n"
      ],
<<<<<<< HEAD
      "id": "6c1545fb"
=======
      "id": "b251fec8"
>>>>>>> 021b1e17f88b8fa0d99a6d41a52c0b3b9d2c6f5d
    },
    {
      "cell_type": "code",
      "metadata": {},
      "source": [
        "expr_manip = x * (expr + x * y + x**3)\n",
        "expr_manip"
      ],
<<<<<<< HEAD
      "id": "da2d4023",
=======
      "id": "c837615e",
>>>>>>> 021b1e17f88b8fa0d99a6d41a52c0b3b9d2c6f5d
      "execution_count": null,
      "outputs": []
    },
    {
      "cell_type": "markdown",
      "metadata": {},
      "source": [
        "Agora, vamos calcular a derivada da expressão $2x^2 - xy$ em relação a $x$:\n"
      ],
<<<<<<< HEAD
      "id": "fca91501"
=======
      "id": "c24a3337"
>>>>>>> 021b1e17f88b8fa0d99a6d41a52c0b3b9d2c6f5d
    },
    {
      "cell_type": "code",
      "metadata": {},
      "source": [
        "# Derivada da expressão em relação a x.\n",
        "diff(expr, x)"
      ],
<<<<<<< HEAD
      "id": "e0d2ab6e",
=======
      "id": "3dd571b1",
>>>>>>> 021b1e17f88b8fa0d99a6d41a52c0b3b9d2c6f5d
      "execution_count": null,
      "outputs": []
    },
    {
      "cell_type": "markdown",
      "metadata": {},
      "source": [
        "Podemos expandir a função expr_manipulada para obter a expressão completa:\n"
      ],
<<<<<<< HEAD
      "id": "0f47c9c1"
=======
      "id": "7792a903"
>>>>>>> 021b1e17f88b8fa0d99a6d41a52c0b3b9d2c6f5d
    },
    {
      "cell_type": "code",
      "metadata": {},
      "source": [
        "expand(expr_manip)"
      ],
<<<<<<< HEAD
      "id": "6edbb5d3",
=======
      "id": "2f84a46d",
>>>>>>> 021b1e17f88b8fa0d99a6d41a52c0b3b9d2c6f5d
      "execution_count": null,
      "outputs": []
    },
    {
      "cell_type": "markdown",
      "metadata": {},
      "source": [
        "Podemos também simplificar a expressão:\n"
      ],
<<<<<<< HEAD
      "id": "fa411eeb"
=======
      "id": "2c482b7c"
>>>>>>> 021b1e17f88b8fa0d99a6d41a52c0b3b9d2c6f5d
    },
    {
      "cell_type": "code",
      "metadata": {},
      "source": [
        "simplify(expr_manip)"
      ],
<<<<<<< HEAD
      "id": "a2ea2334",
=======
      "id": "76e9453c",
>>>>>>> 021b1e17f88b8fa0d99a6d41a52c0b3b9d2c6f5d
      "execution_count": null,
      "outputs": []
    },
    {
      "cell_type": "markdown",
      "metadata": {},
      "source": [
        "Também podemos fatorear a expressão:\n"
      ],
<<<<<<< HEAD
      "id": "8411d970"
=======
      "id": "fd91fc09"
>>>>>>> 021b1e17f88b8fa0d99a6d41a52c0b3b9d2c6f5d
    },
    {
      "cell_type": "code",
      "metadata": {},
      "source": [
        "factor(expr_manip)"
      ],
<<<<<<< HEAD
      "id": "89aca2cb",
=======
      "id": "dbbeb69c",
>>>>>>> 021b1e17f88b8fa0d99a6d41a52c0b3b9d2c6f5d
      "execution_count": null,
      "outputs": []
    },
    {
      "cell_type": "markdown",
      "metadata": {},
      "source": [
        "Podemos também resolver equações simbolicamente:\n"
      ],
<<<<<<< HEAD
      "id": "b2af7f3e"
=======
      "id": "129f7a5a"
>>>>>>> 021b1e17f88b8fa0d99a6d41a52c0b3b9d2c6f5d
    },
    {
      "cell_type": "code",
      "metadata": {},
      "source": [
        "# Resolvendo a equação x^2 - 1 = 0.\n",
        "solve(x**2 - 1, x)"
      ],
<<<<<<< HEAD
      "id": "92412b3f",
=======
      "id": "f1659a2e",
>>>>>>> 021b1e17f88b8fa0d99a6d41a52c0b3b9d2c6f5d
      "execution_count": null,
      "outputs": []
    },
    {
      "cell_type": "markdown",
      "metadata": {},
      "source": [
        "Podemos substituir valores específicos para as variáveis na expressão\n"
      ],
<<<<<<< HEAD
      "id": "24a878a5"
=======
      "id": "3451de6b"
>>>>>>> 021b1e17f88b8fa0d99a6d41a52c0b3b9d2c6f5d
    },
    {
      "cell_type": "code",
      "metadata": {},
      "source": [
        "expr.evalf(subs={x:-1, y:2})"
      ],
<<<<<<< HEAD
      "id": "42abc8ae",
=======
      "id": "71220b86",
>>>>>>> 021b1e17f88b8fa0d99a6d41a52c0b3b9d2c6f5d
      "execution_count": null,
      "outputs": []
    },
    {
      "cell_type": "markdown",
      "metadata": {},
      "source": [
        "Isso pode ser usado para avaliar uma função $f\\left(x\\right) = x^2$:\n"
      ],
<<<<<<< HEAD
      "id": "8502f400"
=======
      "id": "752b7391"
>>>>>>> 021b1e17f88b8fa0d99a6d41a52c0b3b9d2c6f5d
    },
    {
      "cell_type": "code",
      "metadata": {},
      "source": [
        "f_symb = x ** 2\n",
        "f_symb.evalf(subs={x:3})"
      ],
<<<<<<< HEAD
      "id": "70c7a93f",
=======
      "id": "6209e1fd",
>>>>>>> 021b1e17f88b8fa0d99a6d41a52c0b3b9d2c6f5d
      "execution_count": null,
      "outputs": []
    },
    {
      "cell_type": "markdown",
      "metadata": {},
      "source": [
        "Podemos avaliar uma função simbólica para cada elemento de uma matriz:\n"
      ],
<<<<<<< HEAD
      "id": "721b2892"
=======
      "id": "ecad7847"
>>>>>>> 021b1e17f88b8fa0d99a6d41a52c0b3b9d2c6f5d
    },
    {
      "cell_type": "code",
      "metadata": {},
      "source": [
        "# Definindo uma matriz simbólica.\n",
        "\n",
        "x_array = np.array([1, 2, 3])\n",
        "\n",
        "try:\n",
        "    f_symb(x_array)\n",
        "except TypeError as err:\n",
        "    print(err)\n",
        "# Convertendo a função simbólica em uma função numpy.\n",
        "from sympy.utilities.lambdify import lambdify\n",
        "\n",
        "f_symb_numpy = lambdify(x, f_symb, 'numpy')\n",
        "\n",
        "print(\"x: \\n\", x_array)\n",
        "print(\"f(x) = x**2: \\n\", f_symb_numpy(x_array))"
      ],
<<<<<<< HEAD
      "id": "36311832",
=======
      "id": "beab5f09",
>>>>>>> 021b1e17f88b8fa0d99a6d41a52c0b3b9d2c6f5d
      "execution_count": null,
      "outputs": []
    },
    {
      "cell_type": "markdown",
      "metadata": {},
      "source": [
        "## Derivadas Simbólicas com `SymPy`\n",
        "\n",
        "Se quisermos calcular a derivada da função $f(x) = x^2$ simbolicamente, podemos fazer isso com o `SymPy`:\n"
      ],
<<<<<<< HEAD
      "id": "d85a11f9"
=======
      "id": "8857cb8d"
>>>>>>> 021b1e17f88b8fa0d99a6d41a52c0b3b9d2c6f5d
    },
    {
      "cell_type": "code",
      "metadata": {},
      "source": [
        "# Definindo a função simbólica.\n",
        "f_symb = x ** 2\n",
        "# Calculando a derivada da função simbólica.\n",
        "dfdx_symb = diff(f_symb, x)\n",
        "dfdx_symb"
      ],
<<<<<<< HEAD
      "id": "9c702a1f",
=======
      "id": "4fbaaa8a",
>>>>>>> 021b1e17f88b8fa0d99a6d41a52c0b3b9d2c6f5d
      "execution_count": null,
      "outputs": []
    },
    {
      "cell_type": "markdown",
      "metadata": {},
      "source": [
        "O Sympy aplica todas as regras de derivação para obter a derivada da função $(exp(-2x) + 3sin(3x), x)$:\n"
      ],
<<<<<<< HEAD
      "id": "039cd226"
=======
      "id": "7a9b896d"
>>>>>>> 021b1e17f88b8fa0d99a6d41a52c0b3b9d2c6f5d
    },
    {
      "cell_type": "code",
      "metadata": {},
      "source": [
        "f_symb = exp(-2*x) + 3*sin(3*x)\n",
        "dfdx_symb = diff(f_symb, x)\n",
        "f_symb, dfdx_symb"
      ],
<<<<<<< HEAD
      "id": "cd0ab01b",
=======
      "id": "45ea833d",
>>>>>>> 021b1e17f88b8fa0d99a6d41a52c0b3b9d2c6f5d
      "execution_count": null,
      "outputs": []
    },
    {
      "cell_type": "markdown",
      "metadata": {},
      "source": [
        "Agora vamos plotar a função e sua derivada:\n"
      ],
<<<<<<< HEAD
      "id": "64354e8c"
=======
      "id": "b3fb0010"
>>>>>>> 021b1e17f88b8fa0d99a6d41a52c0b3b9d2c6f5d
    },
    {
      "cell_type": "code",
      "metadata": {},
      "source": [
        "f_symb_numpy = lambdify(x, f_symb, 'numpy')\n",
        "dfdx_symb_numpy = lambdify(x, dfdx_symb, 'numpy')\n",
        "\n",
        "plot_f1_and_f2(f_symb_numpy, dfdx_symb_numpy)"
      ],
<<<<<<< HEAD
      "id": "478c5a2d",
=======
      "id": "67bb49d4",
>>>>>>> 021b1e17f88b8fa0d99a6d41a52c0b3b9d2c6f5d
      "execution_count": null,
      "outputs": []
    },
    {
      "cell_type": "markdown",
      "metadata": {},
      "source": [
        "Agora vamos calcular a derivada da função $f(x) = 2x$ simbolicamente:\n"
      ],
<<<<<<< HEAD
      "id": "b39b4ca4"
=======
      "id": "8247573c"
>>>>>>> 021b1e17f88b8fa0d99a6d41a52c0b3b9d2c6f5d
    },
    {
      "cell_type": "code",
      "metadata": {},
      "source": [
        "f_symb_numpy = lambdify(x, f_symb, 'numpy')\n",
        "\n",
        "dfdx_symb_numpy = lambdify(x, dfdx_symb, 'numpy')\n",
        "\n",
        "print(\"x: \\n\", x_array)\n",
        "print(\"f'(x) = 2x: \\n\", dfdx_symb_numpy(x_array))"
      ],
<<<<<<< HEAD
      "id": "66cafa4e",
=======
      "id": "b91e3e66",
>>>>>>> 021b1e17f88b8fa0d99a6d41a52c0b3b9d2c6f5d
      "execution_count": null,
      "outputs": []
    },
    {
      "cell_type": "markdown",
      "metadata": {},
      "source": [
        "Agora vamos plotar a função e sua derivada:\n"
      ],
<<<<<<< HEAD
      "id": "b84c7c49"
=======
      "id": "37fdbccd"
>>>>>>> 021b1e17f88b8fa0d99a6d41a52c0b3b9d2c6f5d
    },
    {
      "cell_type": "code",
      "metadata": {},
      "source": [
        "# plote a função e sua derivada\n",
        "plot_f1_and_f2(f_symb_numpy, dfdx_symb_numpy)"
      ],
<<<<<<< HEAD
      "id": "7382ddb2",
=======
      "id": "a9515f78",
>>>>>>> 021b1e17f88b8fa0d99a6d41a52c0b3b9d2c6f5d
      "execution_count": null,
      "outputs": []
    },
    {
      "cell_type": "markdown",
      "metadata": {},
      "source": [
        "## Limitações da derivada simbólica\n",
        "\n",
        "-   Às vezes, as expressões de saída são muito complicadas e até mesmo impossíveis de serem avaliadas. Por exemplo, encontrar a derivada da função.\n",
        "\n",
        "$$\\left|x\\right| = \\begin{cases} x, \\ \\text{if}\\ x > 0\\\\  -x, \\ \\text{if}\\ x < 0 \\\\ 0, \\ \\text{if}\\ x = 0\\end{cases}$$ Analiticamente, anderivada é: $$\\frac{d}{dx}\\left(\\left|x\\right|\\right) = \\begin{cases} 1, \\ \\text{if}\\ x > 0\\\\  -1, \\ \\text{if}\\ x < 0\\\\\\ \\text{does not exist}, \\ \\text{if}\\ x = 0\\end{cases}$$\n",
        "Podemos calcular a derivada da função $f(x) = \\left|x\\right|$ simbolicamente:"
      ],
<<<<<<< HEAD
      "id": "904153eb"
=======
      "id": "502eb147"
>>>>>>> 021b1e17f88b8fa0d99a6d41a52c0b3b9d2c6f5d
    },
    {
      "cell_type": "code",
      "metadata": {},
      "source": [
        "dfdx_abs = diff(abs(x),x)\n",
        "dfdx_abs"
      ],
<<<<<<< HEAD
      "id": "b952c4ba",
=======
      "id": "ce944983",
>>>>>>> 021b1e17f88b8fa0d99a6d41a52c0b3b9d2c6f5d
      "execution_count": null,
      "outputs": []
    },
    {
      "cell_type": "markdown",
      "metadata": {},
      "source": [
        "Outro exemplo $x=-2$:"
      ],
<<<<<<< HEAD
      "id": "67347976"
=======
      "id": "efc3e880"
>>>>>>> 021b1e17f88b8fa0d99a6d41a52c0b3b9d2c6f5d
    },
    {
      "cell_type": "code",
      "metadata": {},
      "source": [
        "dfdx_abs.evalf(subs={x:-2})"
      ],
<<<<<<< HEAD
      "id": "5b1e6849",
=======
      "id": "b8772542",
>>>>>>> 021b1e17f88b8fa0d99a6d41a52c0b3b9d2c6f5d
      "execution_count": null,
      "outputs": []
    },
    {
      "cell_type": "markdown",
      "metadata": {},
      "source": [
        "De fato, há problemas com a avaliação das expressões simbólicas sempre que há um \"salto\" na derivada (por exemplo, as expressões da função são diferentes para diferentes intervalos de $x$), como acontece com $\\frac{d}{dx}(|x|)$.\n",
        "\n",
        "Além disso, você pode ver neste exemplo que é possível obter uma função muito complicada como resultado da computação simbólica. Isso é chamado de aumento de expressão, que resulta em cálculos não suficientemente lentos. \n",
        "\n",
        "# Derivadas Numéricas\n",
        "\n",
        "**Derivadas Numéricas** são calculadas numericamente, ou seja, aproximadamente. Isso significa que a derivada é calculada para um valor específico de $x$ e é uma aproximação do valor real da derivada. A precisão da derivada numérica depende do valor de $h$ (o passo de Derivada). Quanto menor o valor de $h$, mais precisa será a derivada, mas também mais lenta será a computação.\n",
        "\n",
        "#### Derivadas numéricas em `Python` usando a biblioteca `NumPy`."
      ],
<<<<<<< HEAD
      "id": "7948e5b7"
=======
      "id": "7de376c6"
>>>>>>> 021b1e17f88b8fa0d99a6d41a52c0b3b9d2c6f5d
    },
    {
      "cell_type": "code",
      "metadata": {},
      "source": [
        "x_array_2 = np.linspace(-5, 5, 100)\n",
        "dfdx_numerical = np.gradient(f(x_array_2), x_array_2)\n",
        "\n",
        "plot_f1_and_f2(dfdx_symb_numpy, dfdx_numerical, label1=\"f'(x) exact\", label2=\"f'(x) approximate\")"
      ],
<<<<<<< HEAD
      "id": "eb13c280",
=======
      "id": "d0de0d97",
>>>>>>> 021b1e17f88b8fa0d99a6d41a52c0b3b9d2c6f5d
      "execution_count": null,
      "outputs": []
    },
    {
      "cell_type": "code",
      "metadata": {},
      "source": [
        "dfdx_composed = diff(exp(-2*x) + 3*sin(3*x), x)\n",
        "dfdx_symb_numpy = lambdify(x, dfdx_symb, 'numpy')\n",
        "# plote a função e sua derivada\n",
        "def f_composed(x):\n",
        "    return np.exp(-2*x) + 3*np.sin(3*x)\n",
        "\n",
        "plot_f1_and_f2(lambdify(x, dfdx_composed, 'numpy'), np.gradient(f_composed(x_array_2), x_array_2),\n",
        "              label1=\"f'(x) exact\", label2=\"f'(x) approximate\")"
      ],
<<<<<<< HEAD
      "id": "6fc5d5cd",
=======
      "id": "c5ff2494",
>>>>>>> 021b1e17f88b8fa0d99a6d41a52c0b3b9d2c6f5d
      "execution_count": null,
      "outputs": []
    },
    {
      "cell_type": "markdown",
      "metadata": {},
      "source": [
        "Obviamente, a primeira desvantagem da Derivada numérica é que ela não é exata. No entanto, sua precisão normalmente é suficiente para aplicativos de aprendizado de máquina. Nesse estágio, não há necessidade de avaliar os erros da Derivada numérica.\n",
        "\n",
        "Outro problema é semelhante ao que apareceu na Derivada simbólica: ela é imprecisa nos pontos em que há \"saltos\" da derivada. Vamos comparar a derivada exata da função de valor absoluto e a aproximação numérica:\n"
      ],
<<<<<<< HEAD
      "id": "2d41b75e"
=======
      "id": "0934f2d9"
>>>>>>> 021b1e17f88b8fa0d99a6d41a52c0b3b9d2c6f5d
    },
    {
      "cell_type": "code",
      "metadata": {},
      "source": [
        "def dfdx_abs(x):\n",
        "    if x > 0:\n",
        "        return 1\n",
        "    else:\n",
        "        if x < 0:\n",
        "            return -1\n",
        "        else:\n",
        "            return None\n",
        "\n",
        "plot_f1_and_f2(np.vectorize(dfdx_abs), np.gradient(abs(x_array_2), x_array_2))"
      ],
<<<<<<< HEAD
      "id": "323841e5",
=======
      "id": "42cfd914",
>>>>>>> 021b1e17f88b8fa0d99a6d41a52c0b3b9d2c6f5d
      "execution_count": null,
      "outputs": []
    }
  ],
  "metadata": {
    "kernelspec": {
      "name": "python3",
      "language": "python",
      "display_name": "Python 3 (ipykernel)",
      "path": "C:\\Users\\welli\\AppData\\Local\\Programs\\Python\\Python313\\share\\jupyter\\kernels\\python3"
    }
  },
  "nbformat": 4,
  "nbformat_minor": 5
}